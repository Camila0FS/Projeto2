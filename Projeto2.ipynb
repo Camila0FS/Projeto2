{
  "metadata": {
    "language_info": {
      "codemirror_mode": {
        "name": "python",
        "version": 3
      },
      "file_extension": ".py",
      "mimetype": "text/x-python",
      "name": "python",
      "nbconvert_exporter": "python",
      "pygments_lexer": "ipython3",
      "version": "3.8"
    },
    "kernelspec": {
      "name": "python",
      "display_name": "Python (Pyodide)",
      "language": "python"
    }
  },
  "nbformat_minor": 4,
  "nbformat": 4,
  "cells": [
    {
      "cell_type": "code",
      "source": "# Programa 2 - criando planilhas \n# Descrição:\n# Este programa criando planilhas dentro do arquivo orçamento.xls\n\n# Autor: Camila Freitas Sant Ana\n# Versão: 0.0.5 # Data: 13/09/2022\n\n# Anotações: Planilhas: • receitas • despesas • resultados\n\n# Abrir terminal - via jupiter notebook\n# C:\\Users\\Users> cd projeto1\n# C:\\Users\\Users\\projeto1> ls (listou os arquivos)\n# C:\\Users\\Users\\projeto1> cd planilhas\n# C:\\Users\\Users\\projeto1\\planilhas> ls (listou os arquivos)\n\n# no jupiter notebook new ipykernel - renomeado Projeto2.py\n\n# usando o pacote pacote openpyxl\n\nfrom openpyxl import Workbook\n\nwb = Workbook()\n\nfor planilha in [\"receitas\", \"despesas\", \"resultado\"]:\n    wb.create_sheet(planilha)\n\nwb.save(\"orcamento.xlsx\")\n    ",
      "metadata": {
        "trusted": true
      },
      "execution_count": null,
      "outputs": []
    },
    {
      "cell_type": "code",
      "source": "from openpyxl import Workbook",
      "metadata": {
        "trusted": true
      },
      "execution_count": null,
      "outputs": []
    },
    {
      "cell_type": "code",
      "source": "wb = Workbook()",
      "metadata": {
        "trusted": true
      },
      "execution_count": null,
      "outputs": []
    },
    {
      "cell_type": "code",
      "source": "for planilha in [\"receitas\", \"despesas\", \"resultado\"]:\n    wb.create_sheet(planilha)",
      "metadata": {
        "trusted": true
      },
      "execution_count": null,
      "outputs": []
    },
    {
      "cell_type": "code",
      "source": "wb.save(\"orcamento.xlsx\")",
      "metadata": {
        "trusted": true
      },
      "execution_count": null,
      "outputs": []
    }
  ]
}